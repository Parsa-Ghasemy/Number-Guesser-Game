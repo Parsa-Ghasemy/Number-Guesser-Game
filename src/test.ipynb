{
 "cells": [
  {
   "cell_type": "code",
   "execution_count": null,
   "id": "871932ee",
   "metadata": {},
   "outputs": [],
   "source": [
    "import random\n",
    "\n",
    "def genarate():\n",
    "    comp_number=random.randint(1,100)\n",
    "    return comp_number"
   ]
  },
  {
   "cell_type": "code",
   "execution_count": 4,
   "id": "1914c7c5",
   "metadata": {},
   "outputs": [
    {
     "name": "stdout",
     "output_type": "stream",
     "text": [
      "welcome To the number Guesse Game!!\n"
     ]
    }
   ],
   "source": [
    "print(\"welcome To the number Guesse Game!!\")\n",
    "def number():\n",
    "    user_pick=int(input('Pick a Number:'))\n",
    "    if user_pick <1 or user_pick>100:\n",
    "        return False\n",
    "\n",
    "    return True"
   ]
  },
  {
   "cell_type": "code",
   "execution_count": 6,
   "id": "4523c4c9",
   "metadata": {},
   "outputs": [],
   "source": [
    "import sys"
   ]
  },
  {
   "cell_type": "code",
   "execution_count": 7,
   "id": "ac17acc5",
   "metadata": {},
   "outputs": [
    {
     "data": {
      "text/plain": [
       "['/home/parsa/miniconda3/envs/Number-Guesser-Game-with-Hints/lib/python313.zip',\n",
       " '/home/parsa/miniconda3/envs/Number-Guesser-Game-with-Hints/lib/python3.13',\n",
       " '/home/parsa/miniconda3/envs/Number-Guesser-Game-with-Hints/lib/python3.13/lib-dynload',\n",
       " '',\n",
       " '/home/parsa/miniconda3/envs/Number-Guesser-Game-with-Hints/lib/python3.13/site-packages']"
      ]
     },
     "execution_count": 7,
     "metadata": {},
     "output_type": "execute_result"
    }
   ],
   "source": [
    "sys.path\n"
   ]
  }
 ],
 "metadata": {
  "kernelspec": {
   "display_name": "Number-Guesser-Game-with-Hints",
   "language": "python",
   "name": "python3"
  },
  "language_info": {
   "codemirror_mode": {
    "name": "ipython",
    "version": 3
   },
   "file_extension": ".py",
   "mimetype": "text/x-python",
   "name": "python",
   "nbconvert_exporter": "python",
   "pygments_lexer": "ipython3",
   "version": "3.13.5"
  }
 },
 "nbformat": 4,
 "nbformat_minor": 5
}
